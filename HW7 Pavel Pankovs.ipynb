{
 "cells": [
  {
   "cell_type": "markdown",
   "metadata": {},
   "source": [
    "Задача № 1 1\n",
    " При помощи генератора-списка сохраните в переменной zeroes список из 100 нулей.\n",
    " Выводить ничего не нужно, только правильно заполните список в переменной zeroes"
   ]
  },
  {
   "cell_type": "code",
   "execution_count": 5,
   "metadata": {},
   "outputs": [
    {
     "name": "stdout",
     "output_type": "stream",
     "text": [
      "[0, 0, 0, 0, 0, 0, 0, 0, 0, 0]\n"
     ]
    }
   ],
   "source": [
    "zeroes = [0 for _ in range(10)]\n",
    "print(zeroes)"
   ]
  },
  {
   "cell_type": "markdown",
   "metadata": {},
   "source": [
    "Задача № 2 2\n",
    " При помощи генератора-списка создайте список [1, 2, 3, ..., n], само натуральное число n будет поступать на\n",
    " вход вашей программе.\n",
    " В качестве ответа просто выведите получившийся список"
   ]
  },
  {
   "cell_type": "code",
   "execution_count": 3,
   "metadata": {},
   "outputs": [
    {
     "name": "stdout",
     "output_type": "stream",
     "text": [
      "[1, 2, 3, 4, 5]\n"
     ]
    }
   ],
   "source": [
    "n = 5\n",
    "numbers = [i for i in range(1,n + 1)]\n",
    "print(numbers)\n"
   ]
  },
  {
   "cell_type": "markdown",
   "metadata": {},
   "source": [
    "Задача № 3 3\n",
    " На вход программе подается натуральное число n (n<=1000). При помощи list comprehension создайте список,\n",
    " состоящий из делителей введенного числа."
   ]
  },
  {
   "cell_type": "code",
   "execution_count": 1,
   "metadata": {},
   "outputs": [
    {
     "name": "stdout",
     "output_type": "stream",
     "text": [
      "[1, 2, 3, 4, 6, 8, 12, 24]\n"
     ]
    }
   ],
   "source": [
    "n = 24\n",
    "divisors = [i for i in range(1,n + 1) if n % i == 0]\n",
    "print(divisors)"
   ]
  },
  {
   "cell_type": "markdown",
   "metadata": {},
   "source": [
    " Задача № 4 4\n",
    " При помощи list comprehension создайте список, состоящий из нечетных натуральных чисел в интервале [ nn;\n",
    " n^2n2 ] и вывести его на экран. Само число nn поступает на вход программе"
   ]
  },
  {
   "cell_type": "code",
   "execution_count": 6,
   "metadata": {},
   "outputs": [
    {
     "name": "stdout",
     "output_type": "stream",
     "text": [
      "[17, 19, 21, 23, 25, 27, 29, 31]\n"
     ]
    }
   ],
   "source": [
    "n = 4\n",
    "numbers =[i for i in range(n**2,2*n**2+1)if i % 2 ==1]\n",
    "print(numbers)"
   ]
  },
  {
   "cell_type": "markdown",
   "metadata": {},
   "source": [
    "Задача № 5 5\n",
    " Программа принимает на вход два целых числа a и b.\n",
    " Если a<=b необходимо сформировать список квадратов целых чисел на интервале от а до b включительно и\n",
    " вывести его на экран.\n",
    " Если же a>b, необходимо сформировать список кубов целых чисел на интервале от a до b включительно,\n",
    " двигаясь в порядке убывания, и затем вывести его."
   ]
  },
  {
   "cell_type": "code",
   "execution_count": 3,
   "metadata": {},
   "outputs": [
    {
     "name": "stdout",
     "output_type": "stream",
     "text": [
      "[16, 25, 36, 49, 64]\n"
     ]
    }
   ],
   "source": [
    "a = 4\n",
    "b = 8\n",
    "if a<= b:\n",
    "    result = [i**2 for i in range(a, b +1)]\n",
    "else:\n",
    "    result = [i**3 for i in range(a, b -1, -1)]\n",
    "\n",
    "print(result)                                   \n",
    "                                   \n"
   ]
  },
  {
   "cell_type": "markdown",
   "metadata": {},
   "source": [
    "Задача № 6 6\n",
    " Создайте список первых букв каждого слова из строки st и выведите его на экран st = ‘Create a list of the first\n",
    " letters of every word in this string’"
   ]
  },
  {
   "cell_type": "code",
   "execution_count": 4,
   "metadata": {},
   "outputs": [
    {
     "name": "stdout",
     "output_type": "stream",
     "text": [
      "['G', 'm', 'w', '!']\n"
     ]
    }
   ],
   "source": [
    "st = \"Good morning world !\"\n",
    "first_letters =[word[0] for word in st.split()]\n",
    "print(first_letters)"
   ]
  },
  {
   "cell_type": "markdown",
   "metadata": {},
   "source": [
    " Задача № 7 7\n",
    " При помощи list comprehension создайте список, состоящий из первых n заглавных букв английского\n",
    " алфавита ['A', 'B', 'C', 'D', ...]. Получить все заглавные буквы английского алфавита можно следующим\n",
    " образом:\n",
    " from string import ascii_uppercase print(ascii_uppercase) # выведет строку\n",
    " ABCDEFGHIJKLMNOPQRSTUVWXYZ"
   ]
  },
  {
   "cell_type": "code",
   "execution_count": 7,
   "metadata": {},
   "outputs": [
    {
     "name": "stdout",
     "output_type": "stream",
     "text": [
      "['A', 'B', 'C', 'D', 'E', 'F', 'G', 'H']\n"
     ]
    }
   ],
   "source": [
    "from string import ascii_uppercase\n",
    "n = 8\n",
    "letters = [letter for letter in ascii_uppercase[:n]]\n",
    "print(letters)"
   ]
  },
  {
   "cell_type": "markdown",
   "metadata": {},
   "source": [
    "\n",
    " Задача № 8 8\n",
    " Давайте усовершенствуем предыдущую задачу так, чтобы получался следующий список букв:\n",
    " [‘A’, ‘BB’, ‘CCC’, ‘DDDD’, ‘EEEEE’, ‘FFFFFF’, …]"
   ]
  },
  {
   "cell_type": "code",
   "execution_count": 8,
   "metadata": {},
   "outputs": [
    {
     "name": "stdout",
     "output_type": "stream",
     "text": [
      "['A', 'BB', 'CCC', 'DDDD', 'EEEEE', 'FFFFFF', 'GGGGGGG', 'HHHHHHHH']\n"
     ]
    }
   ],
   "source": [
    "from string import ascii_uppercase\n",
    "n = 8\n",
    "result = [letter*(i + 1) for i, letter in enumerate(ascii_uppercase[:n])]\n",
    "print(result)"
   ]
  },
  {
   "cell_type": "markdown",
   "metadata": {},
   "source": [
    " Задача № 9 9\n",
    " При помощи генератора-списков создайте список, состоящий из слов, начинающихся с буквы ‘t’ или ‘T’. Слова\n",
    " возьмите из переменной phrase, также не забывайте про метод split()\n",
    " В качестве ответа выведите полученный список, слова в нем должны стоять в том же порядке, в котором они\n",
    " стояли в изначальной фразе"
   ]
  },
  {
   "cell_type": "code",
   "execution_count": 10,
   "metadata": {},
   "outputs": [
    {
     "name": "stdout",
     "output_type": "stream",
     "text": [
      "['Today', 'the', 'time', 'to', 'try', 'things', 'that', 'truly']\n"
     ]
    }
   ],
   "source": [
    "phrase = \"Today is the time to try things that truly matter\"\n",
    "words_t = [word for word in phrase.split() if word.startswith(('t','T'))]\n",
    "print(words_t)"
   ]
  }
 ],
 "metadata": {
  "kernelspec": {
   "display_name": "venv",
   "language": "python",
   "name": "python3"
  },
  "language_info": {
   "codemirror_mode": {
    "name": "ipython",
    "version": 3
   },
   "file_extension": ".py",
   "mimetype": "text/x-python",
   "name": "python",
   "nbconvert_exporter": "python",
   "pygments_lexer": "ipython3",
   "version": "3.9.6"
  }
 },
 "nbformat": 4,
 "nbformat_minor": 2
}
