{
 "cells": [
  {
   "cell_type": "markdown",
   "metadata": {},
   "source": [
    "Задание 1\n",
    "Создайте класс Soda (газировка). Для инициализации есть параметр, который определяет вкус газировки.  \n",
    "При инициализации этот параметр можно задавать, а можно и не задавать.  \n",
    "Реализовать метод строковой репрезентации, который возвращает строку:\n",
    "\n",
    "- «У вас газировка с <клубничным> вкусом», если вкус задан.\n",
    "- Если вкус не задан — метод должен возвращать строку: «У вас обычная газировка»."
   ]
  },
  {
   "cell_type": "code",
   "execution_count": 3,
   "metadata": {},
   "outputs": [
    {
     "name": "stdout",
     "output_type": "stream",
     "text": [
      "Soda with cherry flavor\n",
      "You have a regular soda\n",
      "\n"
     ]
    }
   ],
   "source": [
    "# Task 1 — Soda class\n",
    "class Soda():\n",
    "    def __init__(self, taste=\"\"):\n",
    "        self.taste = taste\n",
    "    def show_taste(self):\n",
    "        if self.taste:\n",
    "            print(f\"Soda with {self.taste} flavor\")\n",
    "        else:\n",
    "            print(\"You have a regular soda\")\n",
    "soda1 = Soda(\"cherry\")\n",
    "soda2 = Soda()\n",
    "soda1.show_taste()\n",
    "soda2.show_taste()\n",
    "print()"
   ]
  },
  {
   "cell_type": "markdown",
   "metadata": {},
   "source": [
    "Задание 2\n",
    "Напишите программу с классом Math.  \n",
    "При инициализации атрибутов нет. Реализовать методы:\n",
    "\n",
    "- addition\n",
    "- subtraction\n",
    "- multiplication\n",
    "- division\n",
    "\n",
    "Каждый метод принимает два числовых параметра, выполняет соответствующее действие и печатает результат."
   ]
  },
  {
   "cell_type": "code",
   "execution_count": 5,
   "metadata": {},
   "outputs": [
    {
     "name": "stdout",
     "output_type": "stream",
     "text": [
      "10 + 5 = 15\n",
      "10 - 5 = 5\n",
      "10 * 5 = 50\n",
      "10 / 5 = 2.0\n",
      "\n"
     ]
    }
   ],
   "source": [
    "# Task 2 — Math class\n",
    "class Math():\n",
    "    def addition(self, a, b):\n",
    "        print(f\"{a} + {b} = {a + b}\")\n",
    "    def subtraction(self, a, b):\n",
    "        print(f\"{a} - {b} = {a - b}\")\n",
    "    def multiplication(self, a, b):\n",
    "        print(f\"{a} * {b} = {a * b}\")\n",
    "    def division(self, a, b):\n",
    "        if b != 0:\n",
    "            print(f\"{a} / {b} = {a / b}\")\n",
    "        \n",
    "math = Math()\n",
    "math.addition(10, 5)\n",
    "math.subtraction(10, 5)\n",
    "math.multiplication(10, 5)\n",
    "math.division(10, 5)\n",
    "\n",
    "print()"
   ]
  },
  {
   "cell_type": "markdown",
   "metadata": {},
   "source": [
    "Задание 3\n",
    "Создайте класс Car. При инициализации объекта задать атрибуты:\n",
    "\n",
    "- color\n",
    "- type\n",
    "- year\n",
    "\n",
    "Реализовать 5 методов:\n",
    "\n",
    "1. Запуск автомобиля — выводит строку: *«Автомобиль заведен»*\n",
    "2. Отключение автомобиля — выводит строку: *«Автомобиль заглушен»*\n",
    "3. Метод для присвоения года выпуска\n",
    "4. Метод для присвоения типа\n",
    "5. Метод для присвоения цвета"
   ]
  },
  {
   "cell_type": "code",
   "execution_count": null,
   "metadata": {},
   "outputs": [
    {
     "name": "stdout",
     "output_type": "stream",
     "text": [
      "The car is started\n",
      "The car is turned off\n",
      "----------------------------------------\n"
     ]
    }
   ],
   "source": [
    "# Task 3 — Car class\n",
    "class Car():\n",
    "    def __init__(self, color, car_type, year):\n",
    "        self.color = color\n",
    "        self.car_type = car_type\n",
    "        self.year = year\n",
    "    def start(self):\n",
    "        print(\"The car is started\")\n",
    "    def stop(self):\n",
    "        print(\"The car is turned off\")\n",
    "    def set_year(self, year):\n",
    "        self.year = year\n",
    "    def set_type(self, car_type):\n",
    "       self.car_type = car_type\n",
    "    def set_color(self, color):\n",
    "        self.color = color\n",
    "car = Car(\"red\", \"sedan\", 2020)\n",
    "car.start()\n",
    "car.stop()\n",
    "car.set_year(2022)\n",
    "car.set_type(\"hatchback\")\n",
    "car.set_color(\"blue\")\n",
    "\n",
    "print()"
   ]
  },
  {
   "cell_type": "markdown",
   "metadata": {},
   "source": [
    "Задание 4\n",
    "Создайте класс Sphere для представления сферы в 3D-пространстве. Реализовать методы:\n",
    "\n",
    "- *Конструктор*\n",
    "  - Принимает 4 аргумента: radius, x, y, z\n",
    "  - Если без аргументов — радиус 1, центр в (0, 0, 0)\n",
    "  - Если только радиус — центр всё так же в (0, 0, 0)\n",
    "  \n",
    "- get_volume() — возвращает объём сферы\n",
    "- get_center() — возвращает координаты центра в виде кортежа\n",
    "- set_radius(radius) — устанавливает новый радиус\n",
    "- set_center(x, y, z) — устанавливает новые координаты центра\n",
    "- is_point_inside(x, y, z) — возвращает True или False, в зависимости от того, находится ли точка внутри сферы"
   ]
  },
  {
   "cell_type": "code",
   "execution_count": 4,
   "metadata": {},
   "outputs": [
    {
     "name": "stdout",
     "output_type": "stream",
     "text": [
      "Sphere volume: 113.09733552923254\n",
      "Sphere center: (1, 2, 1)\n",
      "Is point inside the sphere: True\n",
      "Is point inside the sphere: False\n",
      "\n"
     ]
    }
   ],
   "source": [
    "# Task 4 — Sphere class\n",
    "import math\n",
    "\n",
    "class Sphere():\n",
    "    def __init__(self, radius=1, x=0, y=0, z=0):\n",
    "        self.radius = radius\n",
    "        self.x = x\n",
    "        self.y = y\n",
    "        self.z = z\n",
    "    def get_volume(self):\n",
    "        volume = (4/3) * math.pi * self.radius**3\n",
    "        print(f\"Sphere volume: {volume}\")\n",
    "        return volume\n",
    "    def get_center(self):\n",
    "        center = (self.x, self.y, self.z)\n",
    "        print(f\"Sphere center: {center}\")\n",
    "        return center\n",
    "    def set_radius(self, radius):\n",
    "        self.radius = radius\n",
    "    def set_center(self, x, y, z):\n",
    "        self.x = x\n",
    "        self.y = y\n",
    "        self.z = z\n",
    "    def is_point_inside(self, x, y, z):\n",
    "        distance = math.sqrt((x - self.x)**2 + (y - self.y)**2 + (z - self.z)**2)\n",
    "        inside = distance <= self.radius\n",
    "        print(f\"Is point inside the sphere: {inside}\")\n",
    "        return inside\n",
    "sphere = Sphere(3, 1, 2, 1)\n",
    "sphere.get_volume()\n",
    "sphere.get_center()\n",
    "sphere.set_radius(5)\n",
    "sphere.set_center(0, 0, 0)\n",
    "sphere.is_point_inside(1, 1, 1)\n",
    "sphere.is_point_inside(10, 10, 10)\n",
    "\n",
    "print()"
   ]
  },
  {
   "cell_type": "markdown",
   "metadata": {},
   "source": [
    "\n",
    "Задание 5\n",
    "Разработайте класс SuperStr, который наследует функциональность стандартного str и содержит два метода:\n",
    "\n",
    "1. is_repeatance(s) — принимает строку s и возвращает True или False:\n",
    "   - True, если текущая строка может быть получена повторением строки s целое количество раз\n",
    "   - Пустая строка считается не содержащей повторов\n",
    "\n",
    "2. is_palindrome() — возвращает True, если строка является палиндромом (не зависит от регистра)\n",
    "   - Пустую строку считать палиндромом"
   ]
  },
  {
   "cell_type": "code",
   "execution_count": 5,
   "metadata": {},
   "outputs": [
    {
     "name": "stdout",
     "output_type": "stream",
     "text": [
      "Repeat check: True\n",
      "Palindrome check: False\n",
      "Palindrome check: True\n"
     ]
    },
    {
     "data": {
      "text/plain": [
       "True"
      ]
     },
     "execution_count": 5,
     "metadata": {},
     "output_type": "execute_result"
    }
   ],
   "source": [
    "# Task 5 — SuperStr class\n",
    "class SuperStr(str):\n",
    "    def is_repeatance(self, s):\n",
    "        if not s:\n",
    "            print(\"Repeat check: False\")\n",
    "            return False\n",
    "        result = self == s * (len(self) // len(s))\n",
    "        print(f\"Repeat check: {result}\")\n",
    "        return result\n",
    "    def is_palindrome(self):\n",
    "        s_lower = self.lower()\n",
    "        result = s_lower == s_lower[::-1]\n",
    "        print(f\"Palindrome check: {result}\")\n",
    "        return result\n",
    "s1 = SuperStr(\"abcabcabc\")\n",
    "s1.is_repeatance(\"abc\")\n",
    "s1.is_palindrome()\n",
    "s2 = SuperStr(\"RaceCar\")\n",
    "s2.is_palindrome()"
   ]
  }
 ],
 "metadata": {
  "kernelspec": {
   "display_name": "venv",
   "language": "python",
   "name": "venv"
  },
  "language_info": {
   "codemirror_mode": {
    "name": "ipython",
    "version": 3
   },
   "file_extension": ".py",
   "mimetype": "text/x-python",
   "name": "python",
   "nbconvert_exporter": "python",
   "pygments_lexer": "ipython3",
   "version": "3.9.6"
  }
 },
 "nbformat": 4,
 "nbformat_minor": 2
}
